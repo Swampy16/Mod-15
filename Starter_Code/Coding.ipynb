{
 "cells": [
  {
   "cell_type": "code",
   "execution_count": 7,
   "metadata": {},
   "outputs": [],
   "source": [
    "import pandas as pd\n",
    "import requests\n",
    "import hvplot.pandas\n",
    "import folium"
   ]
  },
  {
   "cell_type": "code",
   "execution_count": 2,
   "metadata": {},
   "outputs": [],
   "source": [
    "url = 'https://earthquake.usgs.gov/earthquakes/feed/v1.0/summary/all_week.geojson'\n",
    "response = requests.get(url)\n",
    "data = response.json()"
   ]
  },
  {
   "cell_type": "code",
   "execution_count": 4,
   "metadata": {},
   "outputs": [],
   "source": [
    "earthquake_features = data[\"features\"]\n",
    "earthquake_data = []\n",
    "for feature in earthquake_features:\n",
    "    props = feature['properties']\n",
    "    coords = feature['geometry']['coordinates']\n",
    "    earthquake_data.append({\n",
    "        'magnitude': props['mag'],\n",
    "        'location': props['place'],\n",
    "        'time': pd.to_datetime(props['time'], unit='ms'),\n",
    "        'longitude': coords[0],\n",
    "        'latitude': coords[1],\n",
    "        'depth': coords[2]\n",
    "    })"
   ]
  },
  {
   "cell_type": "code",
   "execution_count": 5,
   "metadata": {},
   "outputs": [],
   "source": [
    "earthquake_df = pd.DataFrame(earthquake_data)"
   ]
  },
  {
   "cell_type": "code",
   "execution_count": 9,
   "metadata": {},
   "outputs": [],
   "source": [
    "map_center = [earthquake_df['latitude'].mean(), earthquake_df['longitude'].mean()]\n",
    "m = folium.Map(location=map_center, zoom_start=2)\n"
   ]
  },
  {
   "cell_type": "code",
   "execution_count": 15,
   "metadata": {},
   "outputs": [],
   "source": [
    "def depth_color(depth):\n",
    "    if depth < 10:\n",
    "        return 'green'\n",
    "    elif 10 <= depth < 30:\n",
    "        return 'yellow'\n",
    "    elif 30 <= depth < 70:\n",
    "        return 'orange'\n",
    "    else:\n",
    "        return 'red'\n",
    "    \n",
    "for index, row in earthquake_df.iterrows():\n",
    "    folium.CircleMarker(\n",
    "        location=[row['latitude'], row['longitude']],\n",
    "        radius=row['magnitude'] * 2,\n",
    "        color=depth_color(row['depth']),\n",
    "        fill=True,\n",
    "        fill_color=depth_color(row['depth']),\n",
    "        fill_opacity=0.7,\n",
    "        popup=f\"Magnitude: {row['magnitude']}, Depth: {row['depth']} km, Location: {row['location']}\"\n",
    "    ).add_to(m)\n",
    "\n",
    "m.save('earthquake_map.html')"
   ]
  },
  {
   "cell_type": "code",
   "execution_count": 16,
   "metadata": {},
   "outputs": [],
   "source": [
    "legend_html = '''\n",
    "<div style=\"position: fixed; \n",
    "    bottom: 50px; left: 50px; width: 200px; height: 150px; \n",
    "    background-color: white; border:2px solid grey; z-index:9999; font-size:14px;\n",
    "    \">&nbsp; <b>Earthquake Legend</b> <br>\n",
    "    &nbsp; <i style=\"background:green\"></i>&nbsp; Depth < 10 km <br>\n",
    "    &nbsp; <i style=\"background:yellow\"></i>&nbsp; 10 km ≤ Depth < 30 km <br>\n",
    "    &nbsp; <i style=\"background:orange\"></i>&nbsp; 30 km ≤ Depth < 70 km <br>\n",
    "    &nbsp; <i style=\"background:red\"></i>&nbsp; Depth ≥ 70 km <br>\n",
    "    <br>\n",
    "    &nbsp; <b>Marker size</b>: Magnitude\n",
    "</div> '''\n",
    "\n",
    "m.get_root().html.add_child(folium.Element(legend_html))\n",
    "\n",
    "m.save('earthquake_map_with_legend.html')"
   ]
  },
  {
   "cell_type": "code",
   "execution_count": null,
   "metadata": {},
   "outputs": [],
   "source": []
  }
 ],
 "metadata": {
  "kernelspec": {
   "display_name": "dev",
   "language": "python",
   "name": "python3"
  },
  "language_info": {
   "codemirror_mode": {
    "name": "ipython",
    "version": 3
   },
   "file_extension": ".py",
   "mimetype": "text/x-python",
   "name": "python",
   "nbconvert_exporter": "python",
   "pygments_lexer": "ipython3",
   "version": "3.10.13"
  }
 },
 "nbformat": 4,
 "nbformat_minor": 2
}
